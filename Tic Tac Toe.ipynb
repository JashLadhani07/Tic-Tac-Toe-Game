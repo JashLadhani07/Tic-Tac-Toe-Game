{
 "cells": [
  {
   "cell_type": "code",
   "execution_count": 56,
   "id": "6a2b3b06-ff23-42cd-998e-066673b21540",
   "metadata": {},
   "outputs": [
    {
     "name": "stdout",
     "output_type": "stream",
     "text": [
      "Welcome to Tic Tac Toe\n",
      " 0 | 1 | 2 \n",
      "---|---|---\n",
      " 3 | 4 | 5 \n",
      "---|---|---\n",
      " 6 | 7 | 8 \n",
      "X's turn\n"
     ]
    },
    {
     "name": "stdin",
     "output_type": "stream",
     "text": [
      "Where do you want to place X? :  9\n"
     ]
    },
    {
     "ename": "IndexError",
     "evalue": "list index out of range",
     "output_type": "error",
     "traceback": [
      "\u001b[1;31m---------------------------------------------------------------------------\u001b[0m",
      "\u001b[1;31mIndexError\u001b[0m                                Traceback (most recent call last)",
      "Cell \u001b[1;32mIn[56], line 40\u001b[0m\n\u001b[0;32m     38\u001b[0m \u001b[38;5;28mprint\u001b[39m(\u001b[38;5;124m\"\u001b[39m\u001b[38;5;124mX\u001b[39m\u001b[38;5;124m'\u001b[39m\u001b[38;5;124ms turn\u001b[39m\u001b[38;5;124m\"\u001b[39m)\n\u001b[0;32m     39\u001b[0m value \u001b[38;5;241m=\u001b[39m \u001b[38;5;28mint\u001b[39m(\u001b[38;5;28minput\u001b[39m(\u001b[38;5;124m\"\u001b[39m\u001b[38;5;124mWhere do you want to place X? : \u001b[39m\u001b[38;5;124m\"\u001b[39m))\n\u001b[1;32m---> 40\u001b[0m \u001b[38;5;28;01mif\u001b[39;00m xstate[value] \u001b[38;5;241m==\u001b[39m \u001b[38;5;241m1\u001b[39m \u001b[38;5;129;01mor\u001b[39;00m ystate[value] \u001b[38;5;241m==\u001b[39m \u001b[38;5;241m1\u001b[39m :\n\u001b[0;32m     41\u001b[0m     \u001b[38;5;28mprint\u001b[39m(\u001b[38;5;124m\"\u001b[39m\u001b[38;5;124mAlready taken, try again\u001b[39m\u001b[38;5;124m\"\u001b[39m)\n\u001b[0;32m     42\u001b[0m     turn \u001b[38;5;241m=\u001b[39m \u001b[38;5;241m1\u001b[39m\n",
      "\u001b[1;31mIndexError\u001b[0m: list index out of range"
     ]
    }
   ],
   "source": [
    "def gameboard(xstate,ystate):\n",
    "    zero = 'X' if xstate[0] else ('O' if ystate[0] else '0')\n",
    "    one = 'X' if xstate[1] else ('O'if ystate[1] else '1')\n",
    "    two = 'X' if xstate[2] else ('O'if ystate[2] else '2')\n",
    "    three = 'X' if xstate[3] else ('O'if ystate[3] else '3')\n",
    "    four = 'X' if xstate[4] else ('O'if ystate[4] else '4')\n",
    "    five = 'X' if xstate[5] else ('O'if ystate[5] else '5')\n",
    "    six = 'X' if xstate[6] else ('O'if ystate[6] else '6')\n",
    "    seven = 'X' if xstate[7] else ('O'if ystate[7] else '7')\n",
    "    eight = 'X' if xstate[8] else ('O'if ystate[8] else '8')\n",
    "    print(f\" {zero} | {one} | {two} \")\n",
    "    print(\"---|---|---\")\n",
    "    print(f\" {three} | {four} | {five} \")\n",
    "    print(\"---|---|---\")\n",
    "    print(f\" {six} | {seven} | {eight} \")\n",
    "def sum(a,b,c):\n",
    "    return a+b+c\n",
    "def checkwin(xstate,ystate):\n",
    "    win = [[0,1,2],[3,4,5],[6,7,8],[0,3,6],[1,4,7],[2,5,8],[0,4,8],[2,4,6]]\n",
    "    for i in win:\n",
    "        if(sum(xstate[i[0]],xstate[i[1]],xstate[i[2]])==3):\n",
    "            gameboard(xstate,ystate)\n",
    "            print('X won')\n",
    "            return 1\n",
    "        if(sum(ystate[i[0]],ystate[i[1]],ystate[i[2]])==3):\n",
    "            gameboard(xstate,ystate)\n",
    "            print('O won')\n",
    "            return 0\n",
    "    return -1\n",
    "while True:    \n",
    "    print(\"Welcome to Tic Tac Toe\")\n",
    "    xstate = [0,0,0,0,0,0,0,0,0]\n",
    "    ystate = [0,0,0,0,0,0,0,0,0]\n",
    "    turn = 1\n",
    "    while True:\n",
    "        gameboard(xstate,ystate)\n",
    "        if turn==1:\n",
    "            print(\"X's turn\")\n",
    "            value = int(input(\"Where do you want to place X? : \"))\n",
    "            if xstate[value] == 1 or ystate[value] == 1 :\n",
    "                print(\"Already taken, try again\")\n",
    "                turn = 1\n",
    "            elif xstate[value] == 0 or ystate[value] == 0:\n",
    "                xstate[value] = 1\n",
    "                turn = 0\n",
    "        else:\n",
    "            print(\"0's turn\")\n",
    "            value = int(input(\"Where do you want to place 0? : \"))\n",
    "            if xstate[value] == 1 or ystate[value] == 1 :\n",
    "                print(\"Already taken, try again\")\n",
    "                turn = 0\n",
    "            elif xstate[value] == 0 or ystate[value] == 0:\n",
    "                ystate[value] = 1\n",
    "                turn = 1\n",
    "        if checkwin(xstate,ystate) != -1:\n",
    "            print(\"Game ends\")\n",
    "            break\n",
    "    restart = str(input(\"Do you want to play again? (Y/N): \"))\n",
    "    if restart != 'y':\n",
    "        print(\"Thank you for playing\")\n",
    "        break    "
   ]
  },
  {
   "cell_type": "code",
   "execution_count": null,
   "id": "56205142-ea2b-4ea2-992a-cb586fa9efc7",
   "metadata": {},
   "outputs": [],
   "source": []
  }
 ],
 "metadata": {
  "kernelspec": {
   "display_name": "Python [conda env:base] *",
   "language": "python",
   "name": "conda-base-py"
  },
  "language_info": {
   "codemirror_mode": {
    "name": "ipython",
    "version": 3
   },
   "file_extension": ".py",
   "mimetype": "text/x-python",
   "name": "python",
   "nbconvert_exporter": "python",
   "pygments_lexer": "ipython3",
   "version": "3.12.7"
  }
 },
 "nbformat": 4,
 "nbformat_minor": 5
}
